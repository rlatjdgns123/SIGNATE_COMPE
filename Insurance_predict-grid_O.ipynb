{
 "cells": [
  {
   "cell_type": "markdown",
   "id": "73821b75-e122-4c32-ada7-47c1dfcfe112",
   "metadata": {},
   "source": [
    "# 1. Data Preprocessing"
   ]
  },
  {
   "cell_type": "markdown",
   "id": "17bc4d21-aac6-4a45-a178-9ce96484aebb",
   "metadata": {},
   "source": [
    "## Data load"
   ]
  },
  {
   "cell_type": "code",
   "execution_count": 6,
   "id": "9fccf4d7-3e25-48f9-ad80-5132786a7378",
   "metadata": {},
   "outputs": [
    {
     "data": {
      "text/html": [
       "<div>\n",
       "<style scoped>\n",
       "    .dataframe tbody tr th:only-of-type {\n",
       "        vertical-align: middle;\n",
       "    }\n",
       "\n",
       "    .dataframe tbody tr th {\n",
       "        vertical-align: top;\n",
       "    }\n",
       "\n",
       "    .dataframe thead th {\n",
       "        text-align: right;\n",
       "    }\n",
       "</style>\n",
       "<table border=\"1\" class=\"dataframe\">\n",
       "  <thead>\n",
       "    <tr style=\"text-align: right;\">\n",
       "      <th></th>\n",
       "      <th>id</th>\n",
       "      <th>age</th>\n",
       "      <th>sex</th>\n",
       "      <th>bmi</th>\n",
       "      <th>children</th>\n",
       "      <th>smoker</th>\n",
       "      <th>region</th>\n",
       "      <th>charges</th>\n",
       "    </tr>\n",
       "  </thead>\n",
       "  <tbody>\n",
       "    <tr>\n",
       "      <th>0</th>\n",
       "      <td>0</td>\n",
       "      <td>26</td>\n",
       "      <td>male</td>\n",
       "      <td>32.665465</td>\n",
       "      <td>3</td>\n",
       "      <td>no</td>\n",
       "      <td>southeast</td>\n",
       "      <td>0</td>\n",
       "    </tr>\n",
       "    <tr>\n",
       "      <th>1</th>\n",
       "      <td>1</td>\n",
       "      <td>41</td>\n",
       "      <td>male</td>\n",
       "      <td>29.798725</td>\n",
       "      <td>1</td>\n",
       "      <td>no</td>\n",
       "      <td>southwest</td>\n",
       "      <td>0</td>\n",
       "    </tr>\n",
       "    <tr>\n",
       "      <th>2</th>\n",
       "      <td>2</td>\n",
       "      <td>28</td>\n",
       "      <td>male</td>\n",
       "      <td>32.722029</td>\n",
       "      <td>0</td>\n",
       "      <td>yes</td>\n",
       "      <td>northwest</td>\n",
       "      <td>1</td>\n",
       "    </tr>\n",
       "  </tbody>\n",
       "</table>\n",
       "</div>"
      ],
      "text/plain": [
       "   id  age   sex        bmi  children smoker     region  charges\n",
       "0   0   26  male  32.665465         3     no  southeast        0\n",
       "1   1   41  male  29.798725         1     no  southwest        0\n",
       "2   2   28  male  32.722029         0    yes  northwest        1"
      ]
     },
     "execution_count": 6,
     "metadata": {},
     "output_type": "execute_result"
    }
   ],
   "source": [
    "import numpy as np\n",
    "import pandas as pd\n",
    "import matplotlib.pyplot as plt\n",
    "import seaborn as sns\n",
    "%matplotlib inline\n",
    "\n",
    "train_df = pd.read_csv('./traindata.csv')\n",
    "train_df.head(3)"
   ]
  },
  {
   "cell_type": "code",
   "execution_count": 7,
   "id": "0dd3fc8c-df3f-4098-983c-54f4b15fa1d3",
   "metadata": {
    "scrolled": true
   },
   "outputs": [
    {
     "name": "stdout",
     "output_type": "stream",
     "text": [
      "<class 'pandas.core.frame.DataFrame'>\n",
      "RangeIndex: 1600 entries, 0 to 1599\n",
      "Data columns (total 8 columns):\n",
      " #   Column    Non-Null Count  Dtype  \n",
      "---  ------    --------------  -----  \n",
      " 0   id        1600 non-null   int64  \n",
      " 1   age       1600 non-null   int64  \n",
      " 2   sex       1600 non-null   object \n",
      " 3   bmi       1600 non-null   float64\n",
      " 4   children  1600 non-null   int64  \n",
      " 5   smoker    1600 non-null   object \n",
      " 6   region    1600 non-null   object \n",
      " 7   charges   1600 non-null   int64  \n",
      "dtypes: float64(1), int64(4), object(3)\n",
      "memory usage: 100.1+ KB\n"
     ]
    }
   ],
   "source": [
    "train_df.info()"
   ]
  },
  {
   "cell_type": "markdown",
   "id": "1a7dcfa9-2b16-4719-955f-bddf71ab9d6f",
   "metadata": {},
   "source": [
    "## EDA"
   ]
  },
  {
   "cell_type": "code",
   "execution_count": 9,
   "id": "9d4061aa-5681-4a8e-9097-55965d22cd9e",
   "metadata": {},
   "outputs": [
    {
     "name": "stdout",
     "output_type": "stream",
     "text": [
      "sex\n",
      "male      841\n",
      "female    759\n",
      "Name: count, dtype: int64\n",
      "region\n",
      "northeast    414\n",
      "southeast    408\n",
      "northwest    403\n",
      "southwest    375\n",
      "Name: count, dtype: int64\n",
      "smoker\n",
      "no     1261\n",
      "yes     339\n",
      "Name: count, dtype: int64\n"
     ]
    }
   ],
   "source": [
    "print(train_df['sex'].value_counts())\n",
    "print(train_df['region'].value_counts())\n",
    "print(train_df['smoker'].value_counts())"
   ]
  },
  {
   "cell_type": "code",
   "execution_count": 10,
   "id": "7337e989-f873-4042-a7da-a5dd883a47fb",
   "metadata": {},
   "outputs": [
    {
     "data": {
      "text/plain": [
       "<Axes: xlabel='sex', ylabel='charges'>"
      ]
     },
     "execution_count": 10,
     "metadata": {},
     "output_type": "execute_result"
    },
    {
     "data": {
      "image/png": "[encoded data removed]",
      "text/plain": [
       "<Figure size 640x480 with 1 Axes>"
      ]
     },
     "metadata": {},
     "output_type": "display_data"
    }
   ],
   "source": [
    "sns.barplot(x='sex', y = 'charges', data=train_df)"
   ]
  },
  {
   "cell_type": "code",
   "execution_count": 11,
   "id": "88d60718-48b2-47ad-9450-07c9adeb19ee",
   "metadata": {},
   "outputs": [
    {
     "data": {
      "text/plain": [
       "<Axes: xlabel='region', ylabel='charges'>"
      ]
     },
     "execution_count": 11,
     "metadata": {},
     "output_type": "execute_result"
    },
    {
     "data": {
      "image/png": "[encoded data removed]",
      "text/plain": [
       "<Figure size 640x480 with 1 Axes>"
      ]
     },
     "metadata": {},
     "output_type": "display_data"
    }
   ],
   "source": [
    "sns.barplot(x='region', y='charges', hue='sex', data=train_df) #hue: 범례"
   ]
  },
  {
   "cell_type": "code",
   "execution_count": 12,
   "id": "f4a5b203-92d8-4613-a8fe-468ab1d667ab",
   "metadata": {},
   "outputs": [
    {
     "data": {
      "text/plain": [
       "<Axes: xlabel='smoker', ylabel='charges'>"
      ]
     },
     "execution_count": 12,
     "metadata": {},
     "output_type": "execute_result"
    },
    {
     "data": {
      "image/png": "[encoded data removed]",
      "text/plain": [
       "<Figure size 640x480 with 1 Axes>"
      ]
     },
     "metadata": {},
     "output_type": "display_data"
    }
   ],
   "source": [
    "sns.barplot(x='smoker', y = 'charges', data=train_df)"
   ]
  },
  {
   "cell_type": "code",
   "execution_count": 13,
   "id": "efa742cf-6b92-4682-b6ff-60d24042a262",
   "metadata": {},
   "outputs": [
    {
     "data": {
      "text/plain": [
       "<Axes: xlabel='children', ylabel='charges'>"
      ]
     },
     "execution_count": 13,
     "metadata": {},
     "output_type": "execute_result"
    },
    {
     "data": {
      "image/png": "[encoded data removed]",
      "text/plain": [
       "<Figure size 640x480 with 1 Axes>"
      ]
     },
     "metadata": {},
     "output_type": "display_data"
    }
   ],
   "source": [
    "sns.barplot(x='children', y = 'charges', data=train_df)"
   ]
  },
  {
   "cell_type": "markdown",
   "id": "9fa6a657-c8c9-4f22-901a-be5f28762047",
   "metadata": {},
   "source": [
    "### AS a result of EDA 'region' and 'children' seems to have no serious influence on charges->delete"
   ]
  },
  {
   "cell_type": "code",
   "execution_count": 15,
   "id": "d8d77ede-d3b6-4a3a-9001-f67426f81392",
   "metadata": {},
   "outputs": [
    {
     "data": {
      "text/html": [
       "<div>\n",
       "<style scoped>\n",
       "    .dataframe tbody tr th:only-of-type {\n",
       "        vertical-align: middle;\n",
       "    }\n",
       "\n",
       "    .dataframe tbody tr th {\n",
       "        vertical-align: top;\n",
       "    }\n",
       "\n",
       "    .dataframe thead th {\n",
       "        text-align: right;\n",
       "    }\n",
       "</style>\n",
       "<table border=\"1\" class=\"dataframe\">\n",
       "  <thead>\n",
       "    <tr style=\"text-align: right;\">\n",
       "      <th></th>\n",
       "      <th>age</th>\n",
       "      <th>sex</th>\n",
       "      <th>bmi</th>\n",
       "      <th>smoker</th>\n",
       "      <th>charges</th>\n",
       "    </tr>\n",
       "  </thead>\n",
       "  <tbody>\n",
       "    <tr>\n",
       "      <th>0</th>\n",
       "      <td>26</td>\n",
       "      <td>male</td>\n",
       "      <td>32.665465</td>\n",
       "      <td>no</td>\n",
       "      <td>0</td>\n",
       "    </tr>\n",
       "    <tr>\n",
       "      <th>1</th>\n",
       "      <td>41</td>\n",
       "      <td>male</td>\n",
       "      <td>29.798725</td>\n",
       "      <td>no</td>\n",
       "      <td>0</td>\n",
       "    </tr>\n",
       "    <tr>\n",
       "      <th>2</th>\n",
       "      <td>28</td>\n",
       "      <td>male</td>\n",
       "      <td>32.722029</td>\n",
       "      <td>yes</td>\n",
       "      <td>1</td>\n",
       "    </tr>\n",
       "  </tbody>\n",
       "</table>\n",
       "</div>"
      ],
      "text/plain": [
       "   age   sex        bmi smoker  charges\n",
       "0   26  male  32.665465     no        0\n",
       "1   41  male  29.798725     no        0\n",
       "2   28  male  32.722029    yes        1"
      ]
     },
     "execution_count": 15,
     "metadata": {},
     "output_type": "execute_result"
    }
   ],
   "source": [
    "train_copy = train_df.copy()\n",
    "train_copy = train_copy.drop(['id', 'region', 'children'], axis = 1)\n",
    "train_copy.head(3)"
   ]
  },
  {
   "cell_type": "markdown",
   "id": "5a2e2c76-9f46-47ee-aa34-5b777f851911",
   "metadata": {},
   "source": [
    "## Encoding(sex, smoker)"
   ]
  },
  {
   "cell_type": "markdown",
   "id": "4e3b5568-3db0-4895-b307-fc399cfafef5",
   "metadata": {},
   "source": [
    "### One-hot encoding"
   ]
  },
  {
   "cell_type": "code",
   "execution_count": 18,
   "id": "46a8a35e-6be8-4040-9823-14743ed3f522",
   "metadata": {
    "scrolled": true
   },
   "outputs": [
    {
     "data": {
      "text/html": [
       "<div>\n",
       "<style scoped>\n",
       "    .dataframe tbody tr th:only-of-type {\n",
       "        vertical-align: middle;\n",
       "    }\n",
       "\n",
       "    .dataframe tbody tr th {\n",
       "        vertical-align: top;\n",
       "    }\n",
       "\n",
       "    .dataframe thead th {\n",
       "        text-align: right;\n",
       "    }\n",
       "</style>\n",
       "<table border=\"1\" class=\"dataframe\">\n",
       "  <thead>\n",
       "    <tr style=\"text-align: right;\">\n",
       "      <th></th>\n",
       "      <th>age</th>\n",
       "      <th>bmi</th>\n",
       "      <th>charges</th>\n",
       "      <th>sex_female</th>\n",
       "      <th>sex_male</th>\n",
       "      <th>smoker_no</th>\n",
       "      <th>smoker_yes</th>\n",
       "    </tr>\n",
       "  </thead>\n",
       "  <tbody>\n",
       "    <tr>\n",
       "      <th>0</th>\n",
       "      <td>26</td>\n",
       "      <td>32.665465</td>\n",
       "      <td>0</td>\n",
       "      <td>False</td>\n",
       "      <td>True</td>\n",
       "      <td>True</td>\n",
       "      <td>False</td>\n",
       "    </tr>\n",
       "    <tr>\n",
       "      <th>1</th>\n",
       "      <td>41</td>\n",
       "      <td>29.798725</td>\n",
       "      <td>0</td>\n",
       "      <td>False</td>\n",
       "      <td>True</td>\n",
       "      <td>True</td>\n",
       "      <td>False</td>\n",
       "    </tr>\n",
       "    <tr>\n",
       "      <th>2</th>\n",
       "      <td>28</td>\n",
       "      <td>32.722029</td>\n",
       "      <td>1</td>\n",
       "      <td>False</td>\n",
       "      <td>True</td>\n",
       "      <td>False</td>\n",
       "      <td>True</td>\n",
       "    </tr>\n",
       "    <tr>\n",
       "      <th>3</th>\n",
       "      <td>20</td>\n",
       "      <td>38.429831</td>\n",
       "      <td>0</td>\n",
       "      <td>True</td>\n",
       "      <td>False</td>\n",
       "      <td>True</td>\n",
       "      <td>False</td>\n",
       "    </tr>\n",
       "    <tr>\n",
       "      <th>4</th>\n",
       "      <td>45</td>\n",
       "      <td>29.641854</td>\n",
       "      <td>0</td>\n",
       "      <td>True</td>\n",
       "      <td>False</td>\n",
       "      <td>True</td>\n",
       "      <td>False</td>\n",
       "    </tr>\n",
       "  </tbody>\n",
       "</table>\n",
       "</div>"
      ],
      "text/plain": [
       "   age        bmi  charges  sex_female  sex_male  smoker_no  smoker_yes\n",
       "0   26  32.665465        0       False      True       True       False\n",
       "1   41  29.798725        0       False      True       True       False\n",
       "2   28  32.722029        1       False      True      False        True\n",
       "3   20  38.429831        0        True     False       True       False\n",
       "4   45  29.641854        0        True     False       True       False"
      ]
     },
     "execution_count": 18,
     "metadata": {},
     "output_type": "execute_result"
    }
   ],
   "source": [
    "def encode_features(dataDF):\n",
    "    features = ['sex', 'smoker']\n",
    "    dataDF = pd.get_dummies(dataDF, columns=features)\n",
    "    return dataDF\n",
    "\n",
    "train_en = encode_features(train_copy)\n",
    "train_en.head()"
   ]
  },
  {
   "cell_type": "markdown",
   "id": "e007439a-f48c-4714-a7e9-913e5e940ee1",
   "metadata": {},
   "source": [
    "## Make Preprocess into one fuction"
   ]
  },
  {
   "cell_type": "markdown",
   "id": "ca976383-5dca-4568-8834-ca32f523a781",
   "metadata": {},
   "source": [
    "### Function with one-hot encode"
   ]
  },
  {
   "cell_type": "code",
   "execution_count": 21,
   "id": "19fb9f8f-a3bd-448a-a96b-adf62c38f981",
   "metadata": {},
   "outputs": [
    {
     "data": {
      "text/html": [
       "<div>\n",
       "<style scoped>\n",
       "    .dataframe tbody tr th:only-of-type {\n",
       "        vertical-align: middle;\n",
       "    }\n",
       "\n",
       "    .dataframe tbody tr th {\n",
       "        vertical-align: top;\n",
       "    }\n",
       "\n",
       "    .dataframe thead th {\n",
       "        text-align: right;\n",
       "    }\n",
       "</style>\n",
       "<table border=\"1\" class=\"dataframe\">\n",
       "  <thead>\n",
       "    <tr style=\"text-align: right;\">\n",
       "      <th></th>\n",
       "      <th>age</th>\n",
       "      <th>bmi</th>\n",
       "      <th>charges</th>\n",
       "      <th>sex_female</th>\n",
       "      <th>sex_male</th>\n",
       "      <th>smoker_no</th>\n",
       "      <th>smoker_yes</th>\n",
       "    </tr>\n",
       "  </thead>\n",
       "  <tbody>\n",
       "    <tr>\n",
       "      <th>0</th>\n",
       "      <td>26</td>\n",
       "      <td>32.665465</td>\n",
       "      <td>0</td>\n",
       "      <td>False</td>\n",
       "      <td>True</td>\n",
       "      <td>True</td>\n",
       "      <td>False</td>\n",
       "    </tr>\n",
       "    <tr>\n",
       "      <th>1</th>\n",
       "      <td>41</td>\n",
       "      <td>29.798725</td>\n",
       "      <td>0</td>\n",
       "      <td>False</td>\n",
       "      <td>True</td>\n",
       "      <td>True</td>\n",
       "      <td>False</td>\n",
       "    </tr>\n",
       "    <tr>\n",
       "      <th>2</th>\n",
       "      <td>28</td>\n",
       "      <td>32.722029</td>\n",
       "      <td>1</td>\n",
       "      <td>False</td>\n",
       "      <td>True</td>\n",
       "      <td>False</td>\n",
       "      <td>True</td>\n",
       "    </tr>\n",
       "  </tbody>\n",
       "</table>\n",
       "</div>"
      ],
      "text/plain": [
       "   age        bmi  charges  sex_female  sex_male  smoker_no  smoker_yes\n",
       "0   26  32.665465        0       False      True       True       False\n",
       "1   41  29.798725        0       False      True       True       False\n",
       "2   28  32.722029        1       False      True      False        True"
      ]
     },
     "execution_count": 21,
     "metadata": {},
     "output_type": "execute_result"
    }
   ],
   "source": [
    "def drop_column(df):\n",
    "    df = df.drop(['id','region', 'children'], axis=1)\n",
    "                 \n",
    "    return df\n",
    "    \n",
    "def one_hot(df):\n",
    "    features = ['sex', 'smoker']\n",
    "    df = pd.get_dummies(df, columns=features)\n",
    "    return df\n",
    "        \n",
    "def prepro_one(df):\n",
    "    df = drop_column(df)\n",
    "    df = one_hot(df)\n",
    "    return df\n",
    "\n",
    "one_df = prepro_one(train_df)\n",
    "one_df.head(3)"
   ]
  },
  {
   "cell_type": "markdown",
   "id": "3e0f8bd6-974a-48c7-82d0-71a7fa233548",
   "metadata": {},
   "source": [
    "# 2. Modeling"
   ]
  },
  {
   "cell_type": "markdown",
   "id": "d977bd8f-41ae-46ad-9ace-936d6b6d084c",
   "metadata": {},
   "source": [
    "### (1). Upload train data again and divide into two sets(x[variables], y[label])"
   ]
  },
  {
   "cell_type": "code",
   "execution_count": 24,
   "id": "2ecc3539-6dfd-42da-90b4-4a5b5d9db967",
   "metadata": {
    "scrolled": true
   },
   "outputs": [
    {
     "data": {
      "text/html": [
       "<div>\n",
       "<style scoped>\n",
       "    .dataframe tbody tr th:only-of-type {\n",
       "        vertical-align: middle;\n",
       "    }\n",
       "\n",
       "    .dataframe tbody tr th {\n",
       "        vertical-align: top;\n",
       "    }\n",
       "\n",
       "    .dataframe thead th {\n",
       "        text-align: right;\n",
       "    }\n",
       "</style>\n",
       "<table border=\"1\" class=\"dataframe\">\n",
       "  <thead>\n",
       "    <tr style=\"text-align: right;\">\n",
       "      <th></th>\n",
       "      <th>age</th>\n",
       "      <th>bmi</th>\n",
       "      <th>sex_female</th>\n",
       "      <th>sex_male</th>\n",
       "      <th>smoker_no</th>\n",
       "      <th>smoker_yes</th>\n",
       "    </tr>\n",
       "  </thead>\n",
       "  <tbody>\n",
       "    <tr>\n",
       "      <th>0</th>\n",
       "      <td>26</td>\n",
       "      <td>32.665465</td>\n",
       "      <td>False</td>\n",
       "      <td>True</td>\n",
       "      <td>True</td>\n",
       "      <td>False</td>\n",
       "    </tr>\n",
       "    <tr>\n",
       "      <th>1</th>\n",
       "      <td>41</td>\n",
       "      <td>29.798725</td>\n",
       "      <td>False</td>\n",
       "      <td>True</td>\n",
       "      <td>True</td>\n",
       "      <td>False</td>\n",
       "    </tr>\n",
       "    <tr>\n",
       "      <th>2</th>\n",
       "      <td>28</td>\n",
       "      <td>32.722029</td>\n",
       "      <td>False</td>\n",
       "      <td>True</td>\n",
       "      <td>False</td>\n",
       "      <td>True</td>\n",
       "    </tr>\n",
       "  </tbody>\n",
       "</table>\n",
       "</div>"
      ],
      "text/plain": [
       "   age        bmi  sex_female  sex_male  smoker_no  smoker_yes\n",
       "0   26  32.665465       False      True       True       False\n",
       "1   41  29.798725       False      True       True       False\n",
       "2   28  32.722029       False      True      False        True"
      ]
     },
     "execution_count": 24,
     "metadata": {},
     "output_type": "execute_result"
    }
   ],
   "source": [
    "train_df = pd.read_csv('./traindata.csv')\n",
    "y_train_df = train_df['charges']\n",
    "X_train_df= train_df.drop('charges',axis=1)\n",
    "\n",
    "train_one = prepro_one(X_train_df)\n",
    "train_one.head(3)"
   ]
  },
  {
   "cell_type": "code",
   "execution_count": 25,
   "id": "7500690d-aa96-4d42-a653-c60852a95f9c",
   "metadata": {},
   "outputs": [
    {
     "data": {
      "text/plain": [
       "0    0\n",
       "1    0\n",
       "2    1\n",
       "Name: charges, dtype: int64"
      ]
     },
     "execution_count": 25,
     "metadata": {},
     "output_type": "execute_result"
    }
   ],
   "source": [
    "y_train_df.head(3)"
   ]
  },
  {
   "cell_type": "markdown",
   "id": "6db6b961-e632-4afa-9c3f-c6e07bcd1201",
   "metadata": {},
   "source": [
    "## (2). Split data into 7:3"
   ]
  },
  {
   "cell_type": "code",
   "execution_count": 27,
   "id": "a2ad4430-c0b4-4841-99ee-6c54adf9b464",
   "metadata": {},
   "outputs": [],
   "source": [
    "from sklearn.model_selection import train_test_split\n",
    "X_train, X_test, y_train, y_test=train_test_split(train_one, y_train_df, \\\n",
    "                                                  test_size=0.3, random_state=11)"
   ]
  },
  {
   "cell_type": "markdown",
   "id": "c1f45534-24d2-4c0e-b8bf-a4cf38a71f44",
   "metadata": {},
   "source": [
    "## (3). Testing several models"
   ]
  },
  {
   "cell_type": "markdown",
   "id": "461f585d-6c51-4e8b-8881-079113324183",
   "metadata": {},
   "source": [
    "### DecisionTree"
   ]
  },
  {
   "cell_type": "code",
   "execution_count": 30,
   "id": "f8367a10-df87-4292-8e24-f770082a496e",
   "metadata": {},
   "outputs": [
    {
     "name": "stdout",
     "output_type": "stream",
     "text": [
      "0.8541666666666666\n"
     ]
    }
   ],
   "source": [
    "from sklearn.tree import DecisionTreeClassifier\n",
    "from sklearn.metrics import accuracy_score\n",
    "dt_clf = DecisionTreeClassifier(random_state=11) # 빈 객체 생성\n",
    "dt_clf.fit(X_train , y_train) # 학습\n",
    "dt_pred = dt_clf.predict(X_test) # 예측\n",
    "print(accuracy_score(y_test, dt_pred)) # 정확도 평가"
   ]
  },
  {
   "cell_type": "markdown",
   "id": "df2a8ad2-7940-4678-ace7-1ff19527c998",
   "metadata": {},
   "source": [
    "### RandomForest"
   ]
  },
  {
   "cell_type": "code",
   "execution_count": 32,
   "id": "5fa20339-f3c2-4766-aade-defbb1f52baf",
   "metadata": {},
   "outputs": [
    {
     "name": "stdout",
     "output_type": "stream",
     "text": [
      "0.8645833333333334\n"
     ]
    }
   ],
   "source": [
    "from sklearn.ensemble import RandomForestClassifier\n",
    "rf_clf = RandomForestClassifier(random_state=11) # 빈 객체 생성\n",
    "rf_clf.fit(X_train , y_train) # 학습\n",
    "rf_pred = rf_clf.predict(X_test) # 예측\n",
    "print(accuracy_score(y_test, rf_pred)) # 정확도"
   ]
  },
  {
   "cell_type": "markdown",
   "id": "808cbad6-16ce-4761-aef7-eca60ddd0da0",
   "metadata": {},
   "source": [
    "### LogisticRegression"
   ]
  },
  {
   "cell_type": "code",
   "execution_count": 34,
   "id": "68c562d0-27f0-4f2a-81b1-08dee3919011",
   "metadata": {},
   "outputs": [
    {
     "name": "stdout",
     "output_type": "stream",
     "text": [
      "0.8729166666666667\n"
     ]
    }
   ],
   "source": [
    "from sklearn.linear_model import LogisticRegression\n",
    "lr_clf = LogisticRegression(solver='liblinear') # 객체 생성, liblinear가 항상 좋다고는 보장 못 함. 여러가지 시도해봐야지\n",
    "lr_clf.fit(X_train , y_train) # 학습\n",
    "lr_pred = lr_clf.predict(X_test) # 예측\n",
    "print(accuracy_score(y_test, lr_pred))"
   ]
  },
  {
   "cell_type": "markdown",
   "id": "e4e586ef-77ce-4b4c-82ac-d798cac3148c",
   "metadata": {},
   "source": [
    "### This doesn't mean RandomForest is the best -> Further check is needed"
   ]
  },
  {
   "cell_type": "markdown",
   "id": "125cef00-13d7-4a41-ac23-6e66f3483397",
   "metadata": {},
   "source": [
    "## (4). Cross check"
   ]
  },
  {
   "cell_type": "markdown",
   "id": "fbe6d98d-39fd-4bbe-8d8b-c7b7050863d9",
   "metadata": {},
   "source": [
    "### DecisionTree"
   ]
  },
  {
   "cell_type": "code",
   "execution_count": 38,
   "id": "1fb267e4-1319-40b4-b98e-064fa0e60456",
   "metadata": {},
   "outputs": [
    {
     "name": "stdout",
     "output_type": "stream",
     "text": [
      "[0.82142857 0.82589286 0.81696429 0.80803571 0.82589286]\n",
      "Mean: 0.8196\n"
     ]
    }
   ],
   "source": [
    "from sklearn.model_selection import cross_val_score\n",
    "scores = cross_val_score(dt_clf, X_train, y_train, cv = 5)\n",
    "print(scores)\n",
    "print(\"Mean: {0:.4f}\".format(scores.mean()))"
   ]
  },
  {
   "cell_type": "markdown",
   "id": "01c73098-cba9-447c-9f02-875a43f67b69",
   "metadata": {},
   "source": [
    "### RandomForest"
   ]
  },
  {
   "cell_type": "code",
   "execution_count": 40,
   "id": "57c94fc7-0463-4074-b995-9344c53d54c8",
   "metadata": {},
   "outputs": [
    {
     "name": "stdout",
     "output_type": "stream",
     "text": [
      "[0.84821429 0.84375    0.84821429 0.86160714 0.85714286]\n",
      "Mean: 0.8518\n"
     ]
    }
   ],
   "source": [
    "from sklearn.model_selection import cross_val_score\n",
    "scores = cross_val_score(rf_clf, X_train, y_train, cv = 5)\n",
    "print(scores)\n",
    "\n",
    "print(\"Mean: {0:.4f}\".format(scores.mean()))"
   ]
  },
  {
   "cell_type": "markdown",
   "id": "5ffae473-5119-41b5-b383-b9c1fa0ed904",
   "metadata": {},
   "source": [
    "### LogisticRegression"
   ]
  },
  {
   "cell_type": "code",
   "execution_count": 55,
   "id": "3ab2067e-4016-4d1c-8a62-d4583a68c818",
   "metadata": {},
   "outputs": [
    {
     "name": "stdout",
     "output_type": "stream",
     "text": [
      "[0.86607143 0.86160714 0.87053571 0.86160714 0.87946429]\n",
      "Mean: 0.8679\n"
     ]
    }
   ],
   "source": [
    "from sklearn.model_selection import cross_val_score\n",
    "scores = cross_val_score(lr_clf, X_train, y_train, cv = 5)\n",
    "print(scores)\n",
    "\n",
    "print(\"Mean: {0:.4f}\".format(scores.mean()))"
   ]
  },
  {
   "cell_type": "markdown",
   "id": "2b39e57d-1494-4fe0-9d89-8a416f152dff",
   "metadata": {},
   "source": [
    "## (5). Finding opimal hyperparameter with GridSearchCV(여기선 했음)"
   ]
  },
  {
   "cell_type": "markdown",
   "id": "a2f1842e-aa02-41ba-95df-ce68f9082e7a",
   "metadata": {},
   "source": [
    "### RF"
   ]
  },
  {
   "cell_type": "code",
   "execution_count": 66,
   "id": "3c848a05-e07e-45b8-918e-cb29ff2997bb",
   "metadata": {},
   "outputs": [
    {
     "name": "stdout",
     "output_type": "stream",
     "text": [
      "GridSearchCV 최적 하이퍼 파라미터 : {'max_depth': None, 'max_features': 'sqrt', 'min_samples_leaf': 4, 'min_samples_split': 2, 'n_estimators': 200}\n",
      "GridSearchCV 최고 정확도: 0.8732\n"
     ]
    }
   ],
   "source": [
    "import warnings\n",
    "from sklearn.ensemble import RandomForestClassifier\n",
    "from sklearn.model_selection import GridSearchCV\n",
    "from sklearn.metrics import accuracy_score\n",
    "\n",
    "# 경고 메시지 무시 설정\n",
    "warnings.filterwarnings('ignore')\n",
    "\n",
    "# 하이퍼파라미터 그리드 설정\n",
    "parameters = {\n",
    "    'n_estimators': [50, 100, 200],  # 트리의 개수\n",
    "    'max_depth': [None, 10, 20, 30],  # 트리의 최대 깊이\n",
    "    'min_samples_split': [2, 5, 10],  # 내부 노드를 분할하는 데 필요한 최소 샘플 수\n",
    "    'min_samples_leaf': [1, 2, 4],  # 리프 노드에 필요한 최소 샘플 수\n",
    "    'max_features': ['sqrt', 'log2']  # 각 트리에서 사용할 최대 특성 개수\n",
    "}\n",
    "\n",
    "grid_rf = GridSearchCV(rf_clf, param_grid=parameters, scoring='accuracy', cv=5, n_jobs=-1) # GridSearchCV 객체 생성\n",
    "grid_rf.fit(X_train, y_train)# 학습\n",
    "\n",
    "# 최적 하이퍼파라미터 및 최고 정확도 출력\n",
    "print('GridSearchCV 최적 하이퍼 파라미터 :', grid_rf.best_params_)\n",
    "print('GridSearchCV 최고 정확도: {0:.4f}'.format(grid_rf.best_score_))"
   ]
  },
  {
   "cell_type": "code",
   "execution_count": 76,
   "id": "93dade80-a739-4225-99df-3130ef115be6",
   "metadata": {},
   "outputs": [
    {
     "name": "stdout",
     "output_type": "stream",
     "text": [
      "테스트 세트 정확도: 0.8750\n"
     ]
    }
   ],
   "source": [
    "# 최적의 모델로 예측 및 평가\n",
    "best_rf = grid_rf.best_estimator_\n",
    "rf_predictions = best_rf.predict(X_test)\n",
    "accuracy = accuracy_score(y_test, rf_predictions)\n",
    "print(f\"테스트 세트 정확도: {accuracy:.4f}\")"
   ]
  },
  {
   "cell_type": "code",
   "execution_count": 78,
   "id": "787dfe9f-dd03-49c7-b06b-18c9ba324c5a",
   "metadata": {},
   "outputs": [
    {
     "name": "stdout",
     "output_type": "stream",
     "text": [
      "[0.87946429 0.85714286 0.86160714 0.87053571 0.89732143]\n",
      "Mean: 0.8732\n"
     ]
    }
   ],
   "source": [
    "from sklearn.model_selection import cross_val_score\n",
    "scores = cross_val_score(best_rf, X_train, y_train, cv = 5)\n",
    "print(scores)\n",
    "print(\"Mean: {0:.4f}\".format(scores.mean()))"
   ]
  },
  {
   "cell_type": "markdown",
   "id": "21d29849-0cee-4986-88d2-1757e3198a75",
   "metadata": {},
   "source": [
    "### LR"
   ]
  },
  {
   "cell_type": "code",
   "execution_count": 72,
   "id": "097b737d-44a9-4de3-a675-eeb18fcd1c13",
   "metadata": {},
   "outputs": [
    {
     "name": "stdout",
     "output_type": "stream",
     "text": [
      "GridSearchCV 최적 하이퍼 파라미터 : {'C': 1, 'penalty': 'l2', 'solver': 'liblinear'}\n",
      "GridSearchCV 최고 정확도: 0.8679\n"
     ]
    }
   ],
   "source": [
    "import warnings\n",
    "from sklearn.linear_model import LogisticRegression\n",
    "from sklearn.model_selection import GridSearchCV\n",
    "from sklearn.metrics import accuracy_score\n",
    "import numpy as np\n",
    "warnings.filterwarnings('ignore')\n",
    "\n",
    "parameters = {\n",
    "    'C': [0.01, 0.1, 1, 10, 100],\n",
    "    'penalty': ['l1', 'l2', 'elasticnet', 'none'],\n",
    "    'solver': ['liblinear']\n",
    "}\n",
    "\n",
    "grid_lr = GridSearchCV(lr_clf, param_grid=parameters, scoring='accuracy', cv=5, n_jobs=-1) # GridSearchCV 객체 생성\n",
    "grid_lr.fit(X_train, y_train) # 학습\n",
    "\n",
    "# 최적 하이퍼파라미터 및 최고 정확도 출력\n",
    "print('GridSearchCV 최적 하이퍼 파라미터 :', grid_lr.best_params_)\n",
    "print('GridSearchCV 최고 정확도: {0:.4f}'.format(grid_lr.best_score_))"
   ]
  },
  {
   "cell_type": "code",
   "execution_count": 80,
   "id": "6ca71edd-1a98-452c-9c27-3eedbe4f4228",
   "metadata": {},
   "outputs": [
    {
     "name": "stdout",
     "output_type": "stream",
     "text": [
      "테스트 세트 정확도: 0.8729\n"
     ]
    }
   ],
   "source": [
    "# 최적의 모델로 예측 및 평가\n",
    "best_lr = grid_lr.best_estimator_\n",
    "lr_predictions = best_lr.predict(X_test)\n",
    "accuracy = accuracy_score(y_test, lr_predictions)\n",
    "print(f\"테스트 세트 정확도: {accuracy:.4f}\")"
   ]
  },
  {
   "cell_type": "code",
   "execution_count": 82,
   "id": "e5658220-d42c-48f5-9d2a-2ddd00cf7ffd",
   "metadata": {},
   "outputs": [
    {
     "name": "stdout",
     "output_type": "stream",
     "text": [
      "[0.86607143 0.86160714 0.87053571 0.86160714 0.87946429]\n",
      "Mean: 0.8679\n"
     ]
    }
   ],
   "source": [
    "from sklearn.model_selection import cross_val_score\n",
    "scores = cross_val_score(best_lr, X_train, y_train, cv = 5)\n",
    "print(scores)\n",
    "print(\"Mean: {0:.4f}\".format(scores.mean()))"
   ]
  },
  {
   "cell_type": "markdown",
   "id": "38012c2c-2a47-4645-a7ae-c05002a6bd7c",
   "metadata": {},
   "source": [
    "## (6). Predict with test data"
   ]
  },
  {
   "cell_type": "code",
   "execution_count": 88,
   "id": "8e6d4324-64a5-489d-9475-ee10d956cd06",
   "metadata": {
    "scrolled": true
   },
   "outputs": [
    {
     "data": {
      "text/html": [
       "<div>\n",
       "<style scoped>\n",
       "    .dataframe tbody tr th:only-of-type {\n",
       "        vertical-align: middle;\n",
       "    }\n",
       "\n",
       "    .dataframe tbody tr th {\n",
       "        vertical-align: top;\n",
       "    }\n",
       "\n",
       "    .dataframe thead th {\n",
       "        text-align: right;\n",
       "    }\n",
       "</style>\n",
       "<table border=\"1\" class=\"dataframe\">\n",
       "  <thead>\n",
       "    <tr style=\"text-align: right;\">\n",
       "      <th></th>\n",
       "      <th>0</th>\n",
       "      <th>1</th>\n",
       "    </tr>\n",
       "  </thead>\n",
       "  <tbody>\n",
       "    <tr>\n",
       "      <th>0</th>\n",
       "      <td>13</td>\n",
       "      <td>0</td>\n",
       "    </tr>\n",
       "    <tr>\n",
       "      <th>1</th>\n",
       "      <td>23</td>\n",
       "      <td>0</td>\n",
       "    </tr>\n",
       "    <tr>\n",
       "      <th>2</th>\n",
       "      <td>27</td>\n",
       "      <td>0</td>\n",
       "    </tr>\n",
       "    <tr>\n",
       "      <th>3</th>\n",
       "      <td>28</td>\n",
       "      <td>0</td>\n",
       "    </tr>\n",
       "    <tr>\n",
       "      <th>4</th>\n",
       "      <td>29</td>\n",
       "      <td>0</td>\n",
       "    </tr>\n",
       "  </tbody>\n",
       "</table>\n",
       "</div>"
      ],
      "text/plain": [
       "    0  1\n",
       "0  13  0\n",
       "1  23  0\n",
       "2  27  0\n",
       "3  28  0\n",
       "4  29  0"
      ]
     },
     "execution_count": 88,
     "metadata": {},
     "output_type": "execute_result"
    }
   ],
   "source": [
    "sample_df = pd.read_csv('./sample_submit.csv', header = None)\n",
    "sample_df.head(5)"
   ]
  },
  {
   "cell_type": "code",
   "execution_count": 90,
   "id": "b379b81a-85c6-4537-ab54-7a71503cc33e",
   "metadata": {},
   "outputs": [
    {
     "data": {
      "text/plain": [
       "0        13\n",
       "1        23\n",
       "2        27\n",
       "3        28\n",
       "4        29\n",
       "       ... \n",
       "395    1968\n",
       "396    1972\n",
       "397    1979\n",
       "398    1983\n",
       "399    1995\n",
       "Name: 0, Length: 400, dtype: int64"
      ]
     },
     "execution_count": 90,
     "metadata": {},
     "output_type": "execute_result"
    }
   ],
   "source": [
    "sample_df[0]"
   ]
  },
  {
   "cell_type": "code",
   "execution_count": 92,
   "id": "b625becb-b03c-4766-9ee0-62cfebf6327a",
   "metadata": {
    "scrolled": true
   },
   "outputs": [
    {
     "data": {
      "text/html": [
       "<div>\n",
       "<style scoped>\n",
       "    .dataframe tbody tr th:only-of-type {\n",
       "        vertical-align: middle;\n",
       "    }\n",
       "\n",
       "    .dataframe tbody tr th {\n",
       "        vertical-align: top;\n",
       "    }\n",
       "\n",
       "    .dataframe thead th {\n",
       "        text-align: right;\n",
       "    }\n",
       "</style>\n",
       "<table border=\"1\" class=\"dataframe\">\n",
       "  <thead>\n",
       "    <tr style=\"text-align: right;\">\n",
       "      <th></th>\n",
       "      <th>age</th>\n",
       "      <th>bmi</th>\n",
       "      <th>sex_female</th>\n",
       "      <th>sex_male</th>\n",
       "      <th>smoker_no</th>\n",
       "      <th>smoker_yes</th>\n",
       "    </tr>\n",
       "  </thead>\n",
       "  <tbody>\n",
       "    <tr>\n",
       "      <th>0</th>\n",
       "      <td>19</td>\n",
       "      <td>24.365178</td>\n",
       "      <td>False</td>\n",
       "      <td>True</td>\n",
       "      <td>True</td>\n",
       "      <td>False</td>\n",
       "    </tr>\n",
       "    <tr>\n",
       "      <th>1</th>\n",
       "      <td>59</td>\n",
       "      <td>33.997763</td>\n",
       "      <td>False</td>\n",
       "      <td>True</td>\n",
       "      <td>False</td>\n",
       "      <td>True</td>\n",
       "    </tr>\n",
       "    <tr>\n",
       "      <th>2</th>\n",
       "      <td>42</td>\n",
       "      <td>29.283450</td>\n",
       "      <td>True</td>\n",
       "      <td>False</td>\n",
       "      <td>True</td>\n",
       "      <td>False</td>\n",
       "    </tr>\n",
       "  </tbody>\n",
       "</table>\n",
       "</div>"
      ],
      "text/plain": [
       "   age        bmi  sex_female  sex_male  smoker_no  smoker_yes\n",
       "0   19  24.365178       False      True       True       False\n",
       "1   59  33.997763       False      True      False        True\n",
       "2   42  29.283450        True     False       True       False"
      ]
     },
     "execution_count": 92,
     "metadata": {},
     "output_type": "execute_result"
    }
   ],
   "source": [
    "test_df = pd.read_csv('./testdata.csv')\n",
    "test_one = prepro_one(test_df)\n",
    "test_one.head(3)"
   ]
  },
  {
   "cell_type": "markdown",
   "id": "72b38e96-1e48-4bd2-b7d2-574800c97c80",
   "metadata": {},
   "source": [
    "### Prediction with best RandomForest(best_rf)"
   ]
  },
  {
   "cell_type": "code",
   "execution_count": 97,
   "id": "1a8ff626-77f6-4a7c-ad06-ebb27d3939b7",
   "metadata": {
    "scrolled": true
   },
   "outputs": [
    {
     "data": {
      "text/html": [
       "<div>\n",
       "<style scoped>\n",
       "    .dataframe tbody tr th:only-of-type {\n",
       "        vertical-align: middle;\n",
       "    }\n",
       "\n",
       "    .dataframe tbody tr th {\n",
       "        vertical-align: top;\n",
       "    }\n",
       "\n",
       "    .dataframe thead th {\n",
       "        text-align: right;\n",
       "    }\n",
       "</style>\n",
       "<table border=\"1\" class=\"dataframe\">\n",
       "  <thead>\n",
       "    <tr style=\"text-align: right;\">\n",
       "      <th></th>\n",
       "      <th>1</th>\n",
       "    </tr>\n",
       "  </thead>\n",
       "  <tbody>\n",
       "    <tr>\n",
       "      <th>0</th>\n",
       "      <td>0</td>\n",
       "    </tr>\n",
       "    <tr>\n",
       "      <th>1</th>\n",
       "      <td>2</td>\n",
       "    </tr>\n",
       "    <tr>\n",
       "      <th>2</th>\n",
       "      <td>0</td>\n",
       "    </tr>\n",
       "    <tr>\n",
       "      <th>3</th>\n",
       "      <td>0</td>\n",
       "    </tr>\n",
       "    <tr>\n",
       "      <th>4</th>\n",
       "      <td>0</td>\n",
       "    </tr>\n",
       "  </tbody>\n",
       "</table>\n",
       "</div>"
      ],
      "text/plain": [
       "   1\n",
       "0  0\n",
       "1  2\n",
       "2  0\n",
       "3  0\n",
       "4  0"
      ]
     },
     "execution_count": 97,
     "metadata": {},
     "output_type": "execute_result"
    }
   ],
   "source": [
    "from sklearn.tree import DecisionTreeClassifier\n",
    "from sklearn.metrics import accuracy_score\n",
    "\n",
    "pred_rf = best_rf.predict(test_one) # 예측\n",
    "pre_bestrf = pd.DataFrame(data=pred_rf, columns=[1])\n",
    "pre_bestrf.head(5)"
   ]
  },
  {
   "cell_type": "code",
   "execution_count": 101,
   "id": "413490e8-0f1a-4ff6-a6ca-a0770ca31675",
   "metadata": {
    "scrolled": true
   },
   "outputs": [
    {
     "data": {
      "text/html": [
       "<div>\n",
       "<style scoped>\n",
       "    .dataframe tbody tr th:only-of-type {\n",
       "        vertical-align: middle;\n",
       "    }\n",
       "\n",
       "    .dataframe tbody tr th {\n",
       "        vertical-align: top;\n",
       "    }\n",
       "\n",
       "    .dataframe thead th {\n",
       "        text-align: right;\n",
       "    }\n",
       "</style>\n",
       "<table border=\"1\" class=\"dataframe\">\n",
       "  <thead>\n",
       "    <tr style=\"text-align: right;\">\n",
       "      <th></th>\n",
       "      <th>1</th>\n",
       "      <th>0</th>\n",
       "    </tr>\n",
       "  </thead>\n",
       "  <tbody>\n",
       "    <tr>\n",
       "      <th>0</th>\n",
       "      <td>0</td>\n",
       "      <td>13</td>\n",
       "    </tr>\n",
       "    <tr>\n",
       "      <th>1</th>\n",
       "      <td>2</td>\n",
       "      <td>23</td>\n",
       "    </tr>\n",
       "    <tr>\n",
       "      <th>2</th>\n",
       "      <td>0</td>\n",
       "      <td>27</td>\n",
       "    </tr>\n",
       "    <tr>\n",
       "      <th>3</th>\n",
       "      <td>0</td>\n",
       "      <td>28</td>\n",
       "    </tr>\n",
       "    <tr>\n",
       "      <th>4</th>\n",
       "      <td>0</td>\n",
       "      <td>29</td>\n",
       "    </tr>\n",
       "  </tbody>\n",
       "</table>\n",
       "</div>"
      ],
      "text/plain": [
       "   1   0\n",
       "0  0  13\n",
       "1  2  23\n",
       "2  0  27\n",
       "3  0  28\n",
       "4  0  29"
      ]
     },
     "execution_count": 101,
     "metadata": {},
     "output_type": "execute_result"
    }
   ],
   "source": [
    "pre_bestrf[0] = sample_df[0]\n",
    "pre_bestrf.head(5)"
   ]
  },
  {
   "cell_type": "code",
   "execution_count": 105,
   "id": "4f7d9f5d-e6b3-4a55-b5ff-7ebc51ccd629",
   "metadata": {},
   "outputs": [
    {
     "data": {
      "text/html": [
       "<div>\n",
       "<style scoped>\n",
       "    .dataframe tbody tr th:only-of-type {\n",
       "        vertical-align: middle;\n",
       "    }\n",
       "\n",
       "    .dataframe tbody tr th {\n",
       "        vertical-align: top;\n",
       "    }\n",
       "\n",
       "    .dataframe thead th {\n",
       "        text-align: right;\n",
       "    }\n",
       "</style>\n",
       "<table border=\"1\" class=\"dataframe\">\n",
       "  <thead>\n",
       "    <tr style=\"text-align: right;\">\n",
       "      <th></th>\n",
       "      <th>0</th>\n",
       "      <th>1</th>\n",
       "    </tr>\n",
       "  </thead>\n",
       "  <tbody>\n",
       "    <tr>\n",
       "      <th>0</th>\n",
       "      <td>13</td>\n",
       "      <td>0</td>\n",
       "    </tr>\n",
       "    <tr>\n",
       "      <th>1</th>\n",
       "      <td>23</td>\n",
       "      <td>2</td>\n",
       "    </tr>\n",
       "    <tr>\n",
       "      <th>2</th>\n",
       "      <td>27</td>\n",
       "      <td>0</td>\n",
       "    </tr>\n",
       "    <tr>\n",
       "      <th>3</th>\n",
       "      <td>28</td>\n",
       "      <td>0</td>\n",
       "    </tr>\n",
       "    <tr>\n",
       "      <th>4</th>\n",
       "      <td>29</td>\n",
       "      <td>0</td>\n",
       "    </tr>\n",
       "  </tbody>\n",
       "</table>\n",
       "</div>"
      ],
      "text/plain": [
       "    0  1\n",
       "0  13  0\n",
       "1  23  2\n",
       "2  27  0\n",
       "3  28  0\n",
       "4  29  0"
      ]
     },
     "execution_count": 105,
     "metadata": {},
     "output_type": "execute_result"
    }
   ],
   "source": [
    "pre_bestrf = pre_bestrf[[0, 1]]\n",
    "pre_bestrf.head(5)"
   ]
  },
  {
   "cell_type": "code",
   "execution_count": 107,
   "id": "0e8c3e56-993f-4c92-931c-60367ec3c357",
   "metadata": {},
   "outputs": [],
   "source": [
    "pre_bestrf.to_csv('onehot(best_rf).csv', index=False, header = False)"
   ]
  },
  {
   "cell_type": "markdown",
   "id": "80110bf7-b841-4754-a440-72272b726167",
   "metadata": {},
   "source": [
    "### Prediction with best LogisticRegression(best_lr)"
   ]
  },
  {
   "cell_type": "code",
   "execution_count": 110,
   "id": "427c89c0-1e68-4ba9-abe3-d4ed879ce769",
   "metadata": {},
   "outputs": [
    {
     "data": {
      "text/html": [
       "<div>\n",
       "<style scoped>\n",
       "    .dataframe tbody tr th:only-of-type {\n",
       "        vertical-align: middle;\n",
       "    }\n",
       "\n",
       "    .dataframe tbody tr th {\n",
       "        vertical-align: top;\n",
       "    }\n",
       "\n",
       "    .dataframe thead th {\n",
       "        text-align: right;\n",
       "    }\n",
       "</style>\n",
       "<table border=\"1\" class=\"dataframe\">\n",
       "  <thead>\n",
       "    <tr style=\"text-align: right;\">\n",
       "      <th></th>\n",
       "      <th>1</th>\n",
       "    </tr>\n",
       "  </thead>\n",
       "  <tbody>\n",
       "    <tr>\n",
       "      <th>0</th>\n",
       "      <td>0</td>\n",
       "    </tr>\n",
       "    <tr>\n",
       "      <th>1</th>\n",
       "      <td>2</td>\n",
       "    </tr>\n",
       "    <tr>\n",
       "      <th>2</th>\n",
       "      <td>0</td>\n",
       "    </tr>\n",
       "    <tr>\n",
       "      <th>3</th>\n",
       "      <td>0</td>\n",
       "    </tr>\n",
       "    <tr>\n",
       "      <th>4</th>\n",
       "      <td>0</td>\n",
       "    </tr>\n",
       "  </tbody>\n",
       "</table>\n",
       "</div>"
      ],
      "text/plain": [
       "   1\n",
       "0  0\n",
       "1  2\n",
       "2  0\n",
       "3  0\n",
       "4  0"
      ]
     },
     "execution_count": 110,
     "metadata": {},
     "output_type": "execute_result"
    }
   ],
   "source": [
    "from sklearn.linear_model import LogisticRegression\n",
    "from sklearn.metrics import accuracy_score\n",
    "\n",
    "pred_lr = best_lr.predict(test_one) # 예측\n",
    "pre_bestlr = pd.DataFrame(data=pred_lr, columns=[1])\n",
    "pre_bestlr.head(5)"
   ]
  },
  {
   "cell_type": "code",
   "execution_count": 112,
   "id": "b9e3ec74-3de1-48f3-bf82-40b745ff2090",
   "metadata": {
    "scrolled": true
   },
   "outputs": [
    {
     "data": {
      "text/html": [
       "<div>\n",
       "<style scoped>\n",
       "    .dataframe tbody tr th:only-of-type {\n",
       "        vertical-align: middle;\n",
       "    }\n",
       "\n",
       "    .dataframe tbody tr th {\n",
       "        vertical-align: top;\n",
       "    }\n",
       "\n",
       "    .dataframe thead th {\n",
       "        text-align: right;\n",
       "    }\n",
       "</style>\n",
       "<table border=\"1\" class=\"dataframe\">\n",
       "  <thead>\n",
       "    <tr style=\"text-align: right;\">\n",
       "      <th></th>\n",
       "      <th>1</th>\n",
       "      <th>0</th>\n",
       "    </tr>\n",
       "  </thead>\n",
       "  <tbody>\n",
       "    <tr>\n",
       "      <th>0</th>\n",
       "      <td>0</td>\n",
       "      <td>13</td>\n",
       "    </tr>\n",
       "    <tr>\n",
       "      <th>1</th>\n",
       "      <td>2</td>\n",
       "      <td>23</td>\n",
       "    </tr>\n",
       "    <tr>\n",
       "      <th>2</th>\n",
       "      <td>0</td>\n",
       "      <td>27</td>\n",
       "    </tr>\n",
       "    <tr>\n",
       "      <th>3</th>\n",
       "      <td>0</td>\n",
       "      <td>28</td>\n",
       "    </tr>\n",
       "    <tr>\n",
       "      <th>4</th>\n",
       "      <td>0</td>\n",
       "      <td>29</td>\n",
       "    </tr>\n",
       "  </tbody>\n",
       "</table>\n",
       "</div>"
      ],
      "text/plain": [
       "   1   0\n",
       "0  0  13\n",
       "1  2  23\n",
       "2  0  27\n",
       "3  0  28\n",
       "4  0  29"
      ]
     },
     "execution_count": 112,
     "metadata": {},
     "output_type": "execute_result"
    }
   ],
   "source": [
    "pre_bestlr[0] = sample_df[0]\n",
    "pre_bestlr.head(5)"
   ]
  },
  {
   "cell_type": "code",
   "execution_count": 114,
   "id": "29ecf8a0-8c0d-4a78-ab81-e66db280ac37",
   "metadata": {
    "scrolled": true
   },
   "outputs": [
    {
     "data": {
      "text/html": [
       "<div>\n",
       "<style scoped>\n",
       "    .dataframe tbody tr th:only-of-type {\n",
       "        vertical-align: middle;\n",
       "    }\n",
       "\n",
       "    .dataframe tbody tr th {\n",
       "        vertical-align: top;\n",
       "    }\n",
       "\n",
       "    .dataframe thead th {\n",
       "        text-align: right;\n",
       "    }\n",
       "</style>\n",
       "<table border=\"1\" class=\"dataframe\">\n",
       "  <thead>\n",
       "    <tr style=\"text-align: right;\">\n",
       "      <th></th>\n",
       "      <th>0</th>\n",
       "      <th>1</th>\n",
       "    </tr>\n",
       "  </thead>\n",
       "  <tbody>\n",
       "    <tr>\n",
       "      <th>0</th>\n",
       "      <td>13</td>\n",
       "      <td>0</td>\n",
       "    </tr>\n",
       "    <tr>\n",
       "      <th>1</th>\n",
       "      <td>23</td>\n",
       "      <td>2</td>\n",
       "    </tr>\n",
       "    <tr>\n",
       "      <th>2</th>\n",
       "      <td>27</td>\n",
       "      <td>0</td>\n",
       "    </tr>\n",
       "    <tr>\n",
       "      <th>3</th>\n",
       "      <td>28</td>\n",
       "      <td>0</td>\n",
       "    </tr>\n",
       "    <tr>\n",
       "      <th>4</th>\n",
       "      <td>29</td>\n",
       "      <td>0</td>\n",
       "    </tr>\n",
       "  </tbody>\n",
       "</table>\n",
       "</div>"
      ],
      "text/plain": [
       "    0  1\n",
       "0  13  0\n",
       "1  23  2\n",
       "2  27  0\n",
       "3  28  0\n",
       "4  29  0"
      ]
     },
     "execution_count": 114,
     "metadata": {},
     "output_type": "execute_result"
    }
   ],
   "source": [
    "pre_bestlr = pre_bestlr[[0, 1]]\n",
    "pre_bestlr.head(5)"
   ]
  },
  {
   "cell_type": "code",
   "execution_count": 116,
   "id": "93ae6627-bda6-4666-8946-4ea4957413df",
   "metadata": {},
   "outputs": [],
   "source": [
    "pre_bestlr.to_csv('onehot(best_lr).csv', index=False, header = False)"
   ]
  }
 ],
 "metadata": {
  "kernelspec": {
   "display_name": "Python 3 (ipykernel)",
   "language": "python",
   "name": "python3"
  },
  "language_info": {
   "codemirror_mode": {
    "name": "ipython",
    "version": 3
   },
   "file_extension": ".py",
   "mimetype": "text/x-python",
   "name": "python",
   "nbconvert_exporter": "python",
   "pygments_lexer": "ipython3",
   "version": "3.11.7"
  }
 },
 "nbformat": 4,
 "nbformat_minor": 5
}
